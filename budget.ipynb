{
 "cells": [
  {
   "cell_type": "code",
   "execution_count": 90,
   "metadata": {},
   "outputs": [
    {
     "ename": "SyntaxError",
     "evalue": "invalid syntax (1740683307.py, line 35)",
     "output_type": "error",
     "traceback": [
      "\u001b[1;36m  Cell \u001b[1;32mIn[90], line 35\u001b[1;36m\u001b[0m\n\u001b[1;33m    |\u001b[0m\n\u001b[1;37m    ^\u001b[0m\n\u001b[1;31mSyntaxError\u001b[0m\u001b[1;31m:\u001b[0m invalid syntax\n"
     ]
    }
   ],
   "source": [
    "import pandas as pd\n",
    "import os\n",
    "from datetime import datetime\n",
    "def getexpenses():\n",
    "\n",
    "    # Monthly Expenses\n",
    "    expense_fixed = pd.read_csv('expense/fixed.csv')\n",
    "    expense_variable = pd.read_csv('expense\\monthly/202501.csv')\n",
    "    expense = pd.concat([expense_fixed,expense_variable])\n",
    "    expense_month = expense['amount'].sum()\n",
    "    return expense, int(expense_month)\n",
    "\n",
    "def getsavings(expenses):\n",
    "    # Monthly Income\n",
    "    income = 1600\n",
    "    print(f'monthly income: ${income}')\n",
    "    print(f\"cashflow: {income-expenses}\")\n",
    "    # initial  Savings\n",
    "    savings= 6350\n",
    "    print(f'\\nSavings initial: ${savings}')\n",
    "    savings += income\n",
    "    # Savings EOM\n",
    "    savings -= expenses\n",
    "    return int(savings), int(income)\n",
    "\n",
    "\n",
    "# def  savings():\n",
    "    # savings=6350\n",
    "    # while True:\n",
    "    #     value = int(input('savings: $'))\n",
    "    #     if value == 0:\n",
    "    #         break\n",
    "    #     else:\n",
    "    #         savings += value\n",
    "|\n",
    "    # print(f'savings_jan: ${savings}')\n",
    "    # return(f'savings: ${savings}')"
   ]
  },
  {
   "cell_type": "code",
   "execution_count": 91,
   "metadata": {},
   "outputs": [
    {
     "name": "stdout",
     "output_type": "stream",
     "text": [
      "             expense  amount  date\n",
      "0        wells fargo    96.0   6.0\n",
      "1              Chase   229.0  17.0\n",
      "2         state farm   250.0   NaN\n",
      "3            Verizon   348.0  10.0\n",
      "4              ACCCU   229.0   9.0\n",
      "5                Cox     0.0   3.0\n",
      "6          NV Energy    50.0  23.0\n",
      "0  Paypal-Mastercard    29.0   2.0\n",
      "1      Paypal-Credit   129.0   6.0\n",
      "2               rent   100.0   1.0\n",
      "monthly expenses: $1460\n",
      "monthly income: $1600\n",
      "cashflow: 140\n",
      "\n",
      "Savings initial: $6350\n",
      "savings final: 6490\n"
     ]
    }
   ],
   "source": [
    "expenses, expense_month = getexpenses()\n",
    "print(expenses)\n",
    "print(f\"monthly expenses: ${expense_month}\")\n",
    "\n",
    "savings, income = getsavings(expense_month)\n",
    "print(f\"savings final: {savings}\")\n"
   ]
  },
  {
   "cell_type": "code",
   "execution_count": 42,
   "metadata": {},
   "outputs": [
    {
     "name": "stdout",
     "output_type": "stream",
     "text": [
      "       type date  amount\n",
      "0       nve  oct   -75.0\n",
      "1       swg  oct   -51.0\n",
      "2   payment  oct   126.0\n",
      "3       nve  nov   -75.0\n",
      "4       swg  nov   -71.5\n",
      "5   payment  nov     0.0\n",
      "6       nve  dec   -76.5\n",
      "7       swg  dec   -33.0\n",
      "8   payment  dec   256.0\n",
      "9       nve  jan   -76.5\n",
      "10      swg  jan   -51.5\n",
      "11  payment  jan     0.0\n",
      "\n",
      "amount owed: $-128.0\n"
     ]
    }
   ],
   "source": [
    "import pandas as pd\n",
    "utility = pd.read_csv(r'Budget\\utilities.csv')\n",
    "utility['amount'] = utility['amount'].apply(lambda x: x/2 if x < 0 else x)\n",
    "bills = utility['amount'][utility['amount'] < 0].sum()#/2\n",
    "payments = utility['amount'][utility['amount'] > 0].sum()\n",
    "print(utility)\n",
    "print()\n",
    "print(f'amount owed: ${bills + payments}')"
   ]
  },
  {
   "cell_type": "code",
   "execution_count": null,
   "metadata": {},
   "outputs": [],
   "source": [
    "# Verizon- Scott\n",
    "# claimed $30 for Scott's line\n",
    "import pandas as pd\n",
    "month = ['aug','sep','oct','nov','dec','jan']\n",
    "bill = [33+111.11,57/3+65,57/3+65,57/3+65,57/3+65,57/3+65]\n",
    "print(sum(bill)-100)\n",
    "cols = ['month','bill']\n",
    "df = pd.DataFrame(month,bill)\n",
    "df"
   ]
  },
  {
   "cell_type": "code",
   "execution_count": 39,
   "metadata": {},
   "outputs": [
    {
     "name": "stdout",
     "output_type": "stream",
     "text": [
      "       type date  amount\n",
      "0       nve  oct   -75.0\n",
      "1       swg  oct   -51.0\n",
      "2   payment  oct   126.0\n",
      "3       nve  nov   -75.0\n",
      "4       swg  nov   -71.5\n",
      "5   payment  nov     0.0\n",
      "6       nve  dec   -76.5\n",
      "7       swg  dec   -33.0\n",
      "8   payment  dec   256.0\n",
      "9       nve  jan   -76.5\n",
      "10      swg  jan   -51.5\n",
      "11  payment  jan     0.0\n"
     ]
    }
   ],
   "source": [
    "# deprecated cashflow()\n",
    "def cashflow(name,month):\n",
    "    fixed = pd.read_csv(f'expense\\monthly\\{month}.csv')\n",
    "    expense = pd.read_csv(f'expense\\monthly\\{name}.csv')\n",
    "    expense['amount'] = expense['amount'].astype(int)\n",
    "    expense = expense['amount'].sum()\n",
    "\n",
    "    # csvs standardized to monthly income\n",
    "    income = pd.read_csv(f'income/{name}.csv')\n",
    "\n",
    "    income = income['income'].sum()\n",
    "    income = int(income)\n",
    "\n",
    "    print(f'{name} cashflow = ${income -expense}')\n",
    "\n",
    "cashflow('tyler')\n",
    "\n",
    "cashflow('danielle')"
   ]
  },
  {
   "cell_type": "code",
   "execution_count": null,
   "metadata": {},
   "outputs": [
    {
     "name": "stdout",
     "output_type": "stream",
     "text": [
      "end: 12/12/2024\n",
      "start: 06/12/2024\n"
     ]
    },
    {
     "data": {
      "text/plain": [
       "{'PAYPAL': 689,\n",
       " 'TESLA': 65,\n",
       " 'COMENITY': 373,\n",
       " 'AMERICAN EXPRESS': 183,\n",
       " 'CAPITAL ONE': 688,\n",
       " 'SMITHS': 40,\n",
       " 'COSTCO': 226,\n",
       " 'SSSCU': 720,\n",
       " 'COUSELING': 24,\n",
       " 'Petco': 0,\n",
       " 'COMN CAP': 63,\n",
       " '99 RANCH MARKET': 15}"
      ]
     },
     "execution_count": 77,
     "metadata": {},
     "output_type": "execute_result"
    }
   ],
   "source": [
    "# Analzye Bank Statement\n",
    "\n",
    "# Danielle\n",
    "expenses = ['PAYPAL','TESLA','COMENITY','AMERICAN EXPRESS',\n",
    "            'CAPITAL ONE','SMITHS', 'COSTCO','SSSCU','COUSELING',\n",
    "            'Petco','COMN CAP','99 RANCH MARKET']\n",
    "df = pd.read_csv('expense/Chase_Danielle.CSV')\n",
    "# print(df)\n",
    "cols = ['Posting Date','Amount','Description']\n",
    "cols = ['Details','Description','Posting Date']\n",
    "# print(df['Posting Date'])\n",
    "# print(df[cols])\n",
    "\n",
    "\n",
    "end = df['Details'].max()\n",
    "start = df['Details'].min()\n",
    "print(f'end: {end}\\nstart: {start}')\n",
    "\n",
    "months = 6\n",
    "danielle = {}\n",
    "for expense in expenses:\n",
    "    mask = df['Posting Date'].str.contains(expense)\n",
    "    sum = df[mask]['Description'].sum()\n",
    "    monthly = -1*round(sum/months)\n",
    "    danielle[expense] = monthly\n",
    "danielle\n"
   ]
  },
  {
   "cell_type": "code",
   "execution_count": 99,
   "metadata": {},
   "outputs": [
    {
     "name": "stdout",
     "output_type": "stream",
     "text": [
      "overage: 0\n",
      "    rates  ratio  month  discount\n",
      "0     900    -10    150     150.0\n",
      "1     900     -9    225     220.0\n",
      "2     900     -8    300     300.0\n",
      "3     900     -7    375     380.0\n",
      "4     900     -5    525     520.0\n",
      "5     900      0    900     680.0\n",
      "6     900      5   1275     960.0\n",
      "7     900      5   1275     960.0\n",
      "8     900      6   1350    1010.0\n",
      "9     900      7   1425    1070.0\n",
      "10    900      8   1500    1120.0\n",
      "11    900      8   1500    1120.0\n"
     ]
    }
   ],
   "source": [
    "rates = [900]*12\n",
    "total = sum(rates)\n",
    "counts = [-10,-9,-8,-7,-5,0,5,5,6,7,8,8]\n",
    "discount = [1]*5\n",
    "dcnt = [0.75]*7\n",
    "for cnt in dcnt:\n",
    "    discount.append(cnt)\n",
    "data = {\n",
    "    'rates': rates,\n",
    "    'ratio': counts\n",
    "}\n",
    "df = pd.DataFrame(data)\n",
    "df['month'] = df['rates'] + df['ratio']*75\n",
    "df['discount'] = round(df['month'] * discount,-1)\n",
    "outflow = df[\"month\"].sum()\n",
    "print(f'overage: {total - outflow}')\n",
    "print(df)"
   ]
  },
  {
   "cell_type": "code",
   "execution_count": 46,
   "metadata": {},
   "outputs": [
    {
     "name": "stdout",
     "output_type": "stream",
     "text": [
      "PAYPAL: -5257.77\n",
      "TESLA: -310.71\n",
      "COMENITY: -2169.75\n",
      "AMERICAN EXPRESS: -4079.0\n",
      "CAPITAL ONE: -6992.29\n",
      "SMITHS: -604.61\n"
     ]
    }
   ],
   "source": [
    "## 2 months of data\n",
    "# print(df['Details'].min())\n",
    "# print(df['Details'].max())\n",
    "\n",
    "for expense in expenses:\n",
    "    mask = df['Posting Date'].str.contains(expense)\n",
    "    sum = df[mask]['Description'].sum()\n",
    "    monthly = sum/2\n",
    "    print(expense + ': ' + str(sum))"
   ]
  },
  {
   "cell_type": "code",
   "execution_count": null,
   "metadata": {},
   "outputs": [],
   "source": [
    "# Overdraft Calculations- 20220906\n",
    "checking = 6.42\n",
    "withdrawals = [284,0,2100]\n",
    "due_dates = [12,6,6]\n",
    "bills = ['verizon','tuition','move-in']\n",
    "\n",
    "movein_cost = [2100,1100,700,300]\n",
    "movein_date = ['total movein','rent','security deposit','apps']"
   ]
  }
 ],
 "metadata": {
  "kernelspec": {
   "display_name": "Python 3 (ipykernel)",
   "language": "python",
   "name": "python3"
  },
  "language_info": {
   "codemirror_mode": {
    "name": "ipython",
    "version": 3
   },
   "file_extension": ".py",
   "mimetype": "text/x-python",
   "name": "python",
   "nbconvert_exporter": "python",
   "pygments_lexer": "ipython3",
   "version": "3.11.7"
  }
 },
 "nbformat": 4,
 "nbformat_minor": 2
}
